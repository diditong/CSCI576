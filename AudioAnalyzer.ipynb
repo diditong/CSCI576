{
 "cells": [
  {
   "cell_type": "code",
   "execution_count": 28,
   "metadata": {
    "scrolled": true
   },
   "outputs": [
    {
     "name": "stdout",
     "output_type": "stream",
     "text": [
      "C:\\Users\\Jiashuo Tong\\Desktop\\CSCI576\\Project\\test_data_3\\test_video_3.wav\n",
      "Analyzing audio: C:\\Users\\Jiashuo Tong\\Desktop\\CSCI576\\Project\\test_data_3\\test_video_3.wav\n",
      "AudioScore is saved at: scores\\test_video_3_audio_score.txt\n",
      "Analyzing completed in  61.4060435295105  seconds\n"
     ]
    }
   ],
   "source": [
    "# CS576 Project\n",
    "# Yue Yu, Spring 2021\n",
    "from scipy.io import wavfile\n",
    "import numpy as np    \n",
    "import time\n",
    "# import time\n",
    "# import matplotlib.pyplot as plt\n",
    "\n",
    "# to run this file in terminal\n",
    "# >> python AudioScore.py\n",
    "# >> filePath\n",
    "\n",
    "# returns the score[0-10] for a wav file by seconds  \n",
    "# the result is saved to filePath_audio_score.txt, one row is one score value\n",
    "def getAudioScore(filePath, fileName):\n",
    "    # print(time.ctime(time.time()))\n",
    "    samplerate, data = wavfile.read(filePath)\n",
    "    monoSound = np.array([l if l >= 0 else 0 for l, r in data])\n",
    "    sampleNum = len(monoSound)\n",
    "    secLength = sampleNum // samplerate\n",
    "    lastLeftNum = sampleNum % samplerate\n",
    "    monoSound = monoSound[:-lastLeftNum]\n",
    "    secPCM = np.mean(monoSound.reshape(-1, samplerate), axis=1)\n",
    "    secPCM = np.insert(secPCM, 0,secPCM[0])\n",
    "    score = [0]\n",
    "    for i in range(secLength):\n",
    "        increase = (secPCM[i + 1] - secPCM[i]) / secPCM[i]\n",
    "        lastScore = score[-1]\n",
    "        curScore = lastScore + increase * 100 // 10\n",
    "        if curScore > 10:\n",
    "            curScore = 10\n",
    "        elif curScore < 0:\n",
    "            curScore = 0\n",
    "        score.append(curScore)\n",
    "    del score[0]\n",
    "    filePath = \"scores\\\\\" #C:\\\\Users\\\\Jiashuo Tong\\\\Desktop\\\\CSCI576\\\\Project\" + \"\\\\proj_code\\\\\n",
    "    fileName = fileName.split('.')[0] + '_audio_score.txt'\n",
    "    scoreFile = filePath + fileName\n",
    "    with open(scoreFile, 'w+') as audioScoreFile:\n",
    "        for s in score:\n",
    "            audioScoreFile.write('%s\\n' % s)\n",
    "    print('AudioScore is saved at: ' + scoreFile)\n",
    "    return\n",
    "\n",
    "#getAudioScore(r\"C:\\Users\\Jiashuo Tong\\Desktop\\CSCI576\\Project\\test_data\\test_video.wav\")\n",
    "# f = open(r\"C:\\Users\\Jiashuo Tong\\Desktop\\CSCI576\\Project\\test.txt\", \"r\")\n",
    "# print(f.read())\n",
    "\n",
    "\n",
    "if __name__ == '__main__':\n",
    "    fPath = str(input())\n",
    "    print('Analyzing audio: ' + fPath)\n",
    "    start = time.time()\n",
    "    fName = fPath.split('\\\\')[-1]\n",
    "    getAudioScore(fPath, fName)\n",
    "    end = time.time()\n",
    "    print(\"Analyzing completed in \", end - start, \" seconds\")\n",
    "    "
   ]
  }
 ],
 "metadata": {
  "kernelspec": {
   "display_name": "Python 3",
   "language": "python",
   "name": "python3"
  },
  "language_info": {
   "codemirror_mode": {
    "name": "ipython",
    "version": 3
   },
   "file_extension": ".py",
   "mimetype": "text/x-python",
   "name": "python",
   "nbconvert_exporter": "python",
   "pygments_lexer": "ipython3",
   "version": "3.8.5"
  }
 },
 "nbformat": 4,
 "nbformat_minor": 4
}
